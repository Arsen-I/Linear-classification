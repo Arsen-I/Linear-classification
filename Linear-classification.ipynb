{
 "cells": [
  {
   "cell_type": "code",
   "execution_count": 16,
   "id": "30c7a1b2",
   "metadata": {},
   "outputs": [],
   "source": [
    "%matplotlib inline\n",
    "import matplotlib.pyplot as plt\n",
    "\n",
    "\n",
    "import numpy as np\n",
    "import scipy as sp\n",
    "from scipy import stats\n",
    "from sklearn import datasets\n",
    "from sklearn import linear_model\n",
    "import copy"
   ]
  },
  {
   "cell_type": "code",
   "execution_count": 17,
   "id": "6be9eb5e",
   "metadata": {},
   "outputs": [],
   "source": [
    "#Perceptron"
   ]
  },
  {
   "cell_type": "code",
   "execution_count": 2,
   "id": "71ed771c",
   "metadata": {},
   "outputs": [],
   "source": [
    "# The dataset from scikit learn\n",
    "wine = datasets.load_wine()\n",
    "# Get input and output data from the dataset\n",
    "X = wine.data\n",
    "Y = wine.target\n",
    "# Create new labels\n",
    "Y = np.where(Y == 0, -1, Y)\n",
    "Y = np.where(Y == 2, -1, Y)\n",
    "# Let's get the number of features\n",
    "d = X.shape[1]"
   ]
  },
  {
   "cell_type": "code",
   "execution_count": 3,
   "id": "8f02b172",
   "metadata": {},
   "outputs": [],
   "source": [
    "##### Helper functions\n",
    "def check_constraints(labels, all_possibile_labels, min_num_istances):\n",
    "    # Count the number of occurrences using numpy\n",
    "    unique, counts = np.unique(labels, return_counts=True)\n",
    "    if len(all_possibile_labels) != len(unique):\n",
    "        return True  #there are not all the labels\n",
    "    if (counts >= min_num_istances).all():\n",
    "        return False #there are enough istances of each label\n",
    "    else:\n",
    "        return True  #there are not enough istances of each label\n",
    "    \n",
    "def need_new_shuffle(y_train, y_test, all_possibile_labels, min_num_istances):    #understands if the training and test are ok  \n",
    "    return (check_constraints(y_train, all_possibile_labels, min_num_istances) or #train set not ok \n",
    "            check_constraints(y_test, all_possibile_labels, min_num_istances))    #test set not ok"
   ]
  },
  {
   "cell_type": "code",
   "execution_count": 4,
   "id": "6faa00af",
   "metadata": {},
   "outputs": [],
   "source": [
    "def create_train_val_test_datasets(features : np.ndarray, labels: np.ndarray, m_t : int, m_test : int):\n",
    "    \n",
    "    df_perm = np.random.permutation(np.hstack((labels.reshape(np.size(labels), 1), features)))\n",
    "    \n",
    "    x_train = df_perm[0:m_t, 1:]\n",
    "    y_train = df_perm[0:m_t, 0]\n",
    "    \n",
    "    x_test = df_perm[m_t:, 1:]\n",
    "    y_test = df_perm[m_t:, 0]\n",
    "    \n",
    "    return x_train, y_train, x_test, y_test\n",
    "\n",
    "\n",
    "def create_train_val_test_datasets_with_constraints(features : np.ndarray, labels: np.ndarray, m_t : int, \n",
    "                                                    m_test : int, min_num_istances : int):\n",
    "\n",
    "    all_possibile_labels = np.unique(labels)\n",
    "    \n",
    "    x_train, y_train, x_test, y_test = create_train_val_test_datasets(features, labels, m_t, m_test)\n",
    "    \n",
    "    while(need_new_shuffle(y_train, y_test, all_possibile_labels, min_num_istances)):\n",
    "        x_train, y_train, x_test, y_test = create_train_val_test_datasets(features, labels, m_t, m_test)\n",
    "    \n",
    "    \n",
    "    return x_train, y_train, x_test, y_test\n",
    "\n",
    "m_t = 80\n",
    "x_train, y_train, x_test, y_test = create_train_val_test_datasets_with_constraints(X, Y, m_t, len(Y)-m_t, 25)"
   ]
  },
  {
   "cell_type": "code",
   "execution_count": 5,
   "id": "2ee4c306",
   "metadata": {},
   "outputs": [],
   "source": [
    "assert x_train.shape[1] == d\n",
    "assert x_test.shape[1] == d \n",
    "\n",
    "x_train = np.hstack((np.ones((x_train.shape[0],1)), x_train))\n",
    "x_test  = np.hstack((np.ones((x_test.shape[0],1)),  x_test))"
   ]
  },
  {
   "cell_type": "code",
   "execution_count": 6,
   "id": "b3c4ae7b",
   "metadata": {},
   "outputs": [],
   "source": [
    "def find_missclassified(X,Y,curr_w):\n",
    "    \n",
    "    missclassified_indeces = np.argwhere(Y * np.matmul(X, curr_w) <= 0)\n",
    "    \n",
    "    return missclassified_indeces.reshape(-1,)\n",
    "\n",
    "def choose_missclassified(missclassified_indeces):\n",
    "    \n",
    "    if missclassified_indeces.size == 0:\n",
    "        index = -1\n",
    "    else:\n",
    "        index = int(missclassified_indeces[0])\n",
    "        \n",
    "    return index\n",
    "\n",
    "def perceptron(X,Y,max_num_iterations):\n",
    "    #INITIALIZATION\n",
    "    curr_w = np.zeros(X.shape[1])\n",
    "    best_w = curr_w\n",
    "    num_samples = X.shape[0]\n",
    "    best_num_of_missclassified = num_samples+1;\n",
    "    w_iters = []\n",
    "    error_iters = []\n",
    "    w_bestIters = []\n",
    "    error_bestIters = []\n",
    "    best_error = num_samples\n",
    "    \n",
    "    missclassified_indeces = find_missclassified(X, Y, curr_w)  \n",
    "    num_missclassified = np.size(missclassified_indeces)       \n",
    "    index_missclassified = choose_missclassified(missclassified_indeces)     \n",
    "\n",
    "    \n",
    "        \n",
    "    num_iter = 1  \n",
    "    while num_iter < max_num_iterations and index_missclassified != -1: \n",
    "        \n",
    "        curr_w += Y[index_missclassified] * X[index_missclassified, :].T \n",
    "        \n",
    "        missclassified_indeces = find_missclassified(X, Y, curr_w)\n",
    "        index_missclassified = choose_missclassified(missclassified_indeces)\n",
    "        num_missclassified = np.size(missclassified_indeces) # Remove this line\n",
    "    \n",
    "        if num_missclassified < best_num_of_missclassified:      \n",
    "            best_w = copy.copy(curr_w) #вектор с коэффициентами лучшей модели\n",
    "            best_num_of_missclassified = num_missclassified #доля неправильно классифицированных образцов для лучшей модели\n",
    "            \n",
    "            \n",
    "            \n",
    "        w_bestIters.append(copy.copy(best_w)) \n",
    "        error_bestIters.append(best_num_of_missclassified/num_samples)  \n",
    "        w_iters.append(copy.copy(curr_w)) \n",
    "           \n",
    "        error_iters.append(num_missclassified) \n",
    "\n",
    "        num_iter += 1 \n",
    "        \n",
    "        \n",
    "    best_error = float(best_num_of_missclassified)/float(num_samples)    \n",
    "    return best_w, best_error, w_bestIters, error_bestIters, w_iters, error_iters"
   ]
  },
  {
   "cell_type": "code",
   "execution_count": 7,
   "id": "d970a3a9",
   "metadata": {},
   "outputs": [],
   "source": [
    "index = choose_missclassified(np.array(list(range(100))))\n",
    "assert type(index) == np.int64 or type(index) == int or type(index) == np.int32"
   ]
  },
  {
   "cell_type": "code",
   "execution_count": 8,
   "id": "da86c1e0",
   "metadata": {},
   "outputs": [
    {
     "name": "stdout",
     "output_type": "stream",
     "text": [
      "Training error with 100 iterations: 0.1875\n"
     ]
    }
   ],
   "source": [
    "w_found, training_error, _, _, _,_ = perceptron(x_train, y_train, 100)\n",
    "print(\"Training error with 100 iterations: \" + str(training_error))"
   ]
  },
  {
   "cell_type": "code",
   "execution_count": 9,
   "id": "cbfec3a3",
   "metadata": {},
   "outputs": [],
   "source": [
    "def classification_loss(y_target : np.ndarray, predictions : np.ndarray) -> float:\n",
    "    '''\n",
    "    This function computes the fraction of missclassified samples given two vectors: true labels and predictions. \n",
    " \n",
    "    '''\n",
    "    missclassified_items = np.where(y_target != predictions, 1, 0)\n",
    "    missclassified_number = np.sum(missclassified_items)\n",
    "    missclassified_indeces = np.ones(missclassified_number)\n",
    "\n",
    "    return missclassified_number / y_target.shape[0]\n",
    "\n",
    "\n",
    "def compute_fraction_missclassified(X : np.ndarray, Y : np.ndarray, w : np.ndarray) -> float:\n",
    "    '''\n",
    "    This function computes the fraction of missclassified samples of model parametrized by w on the data X w.r.t. \n",
    "    targets Y. \n",
    "    \n",
    "    '''\n",
    "    missclassified_samples = np.where(Y * np.matmul(X, w) < 0, 1, 0)\n",
    "    fraction_missclass = np.sum(missclassified_samples) / X.shape[0]\n",
    "    \n",
    "    \n",
    "    return fraction_missclass"
   ]
  },
  {
   "cell_type": "code",
   "execution_count": 10,
   "id": "53ea05ab",
   "metadata": {},
   "outputs": [],
   "source": [
    "assert classification_loss(np.array([[1],[3]]), np.array([[1],[3]])) == 0\n",
    "assert classification_loss(np.array([[1],[2]]), np.array([[1],[3]])) == 0.5\n",
    "y_labels, y_predictions = np.random.choice(10, 1000000), np.random.choice(10, 1000000)\n",
    "assert np.isclose(classification_loss(y_labels, y_predictions), 0.9, atol=0.01)\n",
    "assert training_error == compute_fraction_missclassified(x_train, y_train, w_found)"
   ]
  },
  {
   "cell_type": "code",
   "execution_count": 11,
   "id": "f78cff71",
   "metadata": {},
   "outputs": [
    {
     "name": "stdout",
     "output_type": "stream",
     "text": [
      "Training Error for 10000 iterations is 0.1500\n",
      "Test Error for 10000 iterations is 0.2347\n"
     ]
    }
   ],
   "source": [
    "# now run the perceptron for 10000 iterations\n",
    "w_found, training_error,w_listBest,error_list_trainBest,w_list, error_list_train = perceptron(x_train, y_train, 10000)\n",
    "print(f\"Training Error for 10000 iterations is {compute_fraction_missclassified(x_train, y_train, w_found):.4f}\")\n",
    "print(f\"Test Error for 10000 iterations is {compute_fraction_missclassified(x_test, y_test, w_found):.4f}\")"
   ]
  },
  {
   "cell_type": "code",
   "execution_count": 12,
   "id": "1a60b746",
   "metadata": {},
   "outputs": [],
   "source": [
    "def error_models(X : np.ndarray, Y : np.ndarray, w_l : list) -> list:\n",
    "    '''\n",
    "    This function computes the fraction of missclassified samples of model parametrized by w on the data X w.r.t. \n",
    "    targets Y. \n",
    "    '''\n",
    "    errors = []\n",
    "\n",
    "    for w in w_l:\n",
    "        errors.append(compute_fraction_missclassified(X, Y, w))\n",
    "    return errors"
   ]
  },
  {
   "cell_type": "code",
   "execution_count": 13,
   "id": "e78efb2f",
   "metadata": {},
   "outputs": [
    {
     "data": {
      "text/plain": [
       "Text(0.5, 1.0, 'Test Error using the w found at the current iteration')"
      ]
     },
     "execution_count": 13,
     "metadata": {},
     "output_type": "execute_result"
    },
    {
     "data": {
      "image/png": "[encoded data removed]",
      "text/plain": [
       "<Figure size 1080x720 with 4 Axes>"
      ]
     },
     "metadata": {
      "needs_background": "light"
     },
     "output_type": "display_data"
    }
   ],
   "source": [
    "error_list_testBest = error_models(x_test, y_test, w_listBest)\n",
    "error_list_test = error_models(x_test, y_test, w_list)\n",
    "fig, axes = plt.subplots(2,2, figsize=(15,10))\n",
    "axes[0][0].plot([i for i in range(len(w_listBest))], error_list_trainBest, linewidth=2)\n",
    "axes[0][0].set_xlabel('Iterations')\n",
    "axes[0][0].set_ylabel('Perceptron training error')\n",
    "axes[0][0].set_title('Error using the best w found at the current iteration ')\n",
    "axes[0][1].plot([i for i in range(len(w_list))], error_list_testBest, linewidth=2)\n",
    "axes[0][1].set_xlabel('Iterations')\n",
    "axes[0][1].set_ylabel('Perceptron test error')\n",
    "axes[0][1].set_title('Test Error using the best w found at the current iteration')\n",
    "axes[1][0].plot([i for i in range(len(w_list))], error_list_train, linewidth=2)\n",
    "axes[1][0].set_xlabel('Iterations')\n",
    "axes[1][0].set_ylabel('Perceptron training error')\n",
    "axes[1][0].set_title('Error using the w found at the current iteration ')\n",
    "axes[1][1].plot([i for i in range(len(w_list))], error_list_test, linewidth=2)\n",
    "axes[1][1].set_xlabel('Iterations')\n",
    "axes[1][1].set_ylabel('Perceptron test error')\n",
    "axes[1][1].set_title('Test Error using the w found at the current iteration')"
   ]
  },
  {
   "cell_type": "code",
   "execution_count": 20,
   "id": "21af9788",
   "metadata": {},
   "outputs": [],
   "source": [
    "#Logistic Regression\n",
    "# Now we use logistic regression, as implemented in Scikit-learn, to predict labels. \n",
    "# We first do it for 2 labels and then for 3 labels. \n",
    "# We will also plot the decision region of logistic regression."
   ]
  },
  {
   "cell_type": "code",
   "execution_count": 21,
   "id": "9ed3d02e",
   "metadata": {},
   "outputs": [],
   "source": [
    "m_t = 80\n",
    "x_train, y_train, x_test, y_test = create_train_val_test_datasets_with_constraints(X, Y, m_t, len(Y)-m_t, 25)"
   ]
  },
  {
   "cell_type": "code",
   "execution_count": 22,
   "id": "1861b7b3",
   "metadata": {},
   "outputs": [
    {
     "name": "stdout",
     "output_type": "stream",
     "text": [
      "Error rate on training set: 0.0\n",
      "Error rate on test set: 0.16326530612244897\n",
      "Compare the estimate of generalization with the sklearn implementation 0.16326530612244894\n"
     ]
    }
   ],
   "source": [
    "# Logistic regression for 2 classes\n",
    "# I compute the error rate (classification loss I will use the function \"classification_loss\" which I built before)\n",
    "max_iter = 2000\n",
    "\n",
    "logreg1 = linear_model.LogisticRegression(C = 1e5, max_iter = max_iter).fit(x_train, y_train)\n",
    "\n",
    "error_rate_training = classification_loss(y_train, logreg1.predict(x_train))\n",
    "error_rate_test = classification_loss(y_test, logreg1.predict(x_test))\n",
    "error_rate_test_sklearn = 1 - logreg1.score(x_test, y_test)\n",
    "    \n",
    "print(\"Error rate on training set: \"+str(error_rate_training))\n",
    "print(\"Error rate on test set: \"+str(error_rate_test))\n",
    "print(f\"Compare the estimate of generalization with the sklearn implementation {error_rate_test_sklearn}\")"
   ]
  },
  {
   "cell_type": "code",
   "execution_count": 23,
   "id": "851f2315",
   "metadata": {},
   "outputs": [],
   "source": [
    "X = wine.data\n",
    "Y = wine.target\n",
    "\n",
    "m_t = 80\n",
    "x_train, y_train, x_test, y_test = create_train_val_test_datasets_with_constraints(X, Y, m_t, len(Y)-m_t, 20)\n",
    "\n",
    "_, counts = np.unique(y_train, return_counts=True)\n",
    "assert (counts >= 20).all()\n",
    "_, counts = np.unique(y_test, return_counts=True)\n",
    "assert (counts >= 20).all()"
   ]
  },
  {
   "cell_type": "code",
   "execution_count": 24,
   "id": "3744e3cf",
   "metadata": {},
   "outputs": [
    {
     "name": "stdout",
     "output_type": "stream",
     "text": [
      "Error rate on training set: 0.0\n",
      "Error rate on test set: 0.12244897959183673\n",
      "Compare the estimate of generalization with the sklearn implementation 0.12244897959183676\n"
     ]
    }
   ],
   "source": [
    "# Logistic regression for 3 classes\n",
    "# I compute the error rate (classification loss I will use the function \"classification_loss\" which I built before)\n",
    "# Choose the proper number of iterations: max_iter.\n",
    "max_iter = 2000\n",
    "\n",
    "\n",
    "logreg2 = linear_model.LogisticRegression(C = 1e5, max_iter = max_iter).fit(x_train, y_train)\n",
    "\n",
    "error_rate_training = classification_loss(y_train, logreg2.predict(x_train))\n",
    "error_rate_test = classification_loss(y_test, logreg2.predict(x_test))\n",
    "error_rate_test_sklearn = 1 - logreg2.score(x_test, y_test)\n",
    "    \n",
    "print(\"Error rate on training set: \"+str(error_rate_training))\n",
    "print(\"Error rate on test set: \"+str(error_rate_test))\n",
    "print(f\"Compare the estimate of generalization with the sklearn implementation {error_rate_test_sklearn}\")"
   ]
  },
  {
   "cell_type": "code",
   "execution_count": 25,
   "id": "df90c3a8",
   "metadata": {},
   "outputs": [],
   "source": [
    "#I make the plot we need to reduce the data to 2D, so we choose two features\n",
    "features_list = ['Alcohol', 'Malic acid', 'Ash', 'Alcalinity of ash', 'Magnesium', 'Total phenols', 'Flavanoids',\n",
    "                 'Nonflavanoid phenols', 'Proanthocyanins', 'Color intensity', 'Hue', 'OD280/OD315 of diluted wines',\n",
    "                 'Proline']\n",
    "labels_list = ['class_0', 'class_1', 'class_2']\n",
    "\n",
    "index_feature1 = 0  \n",
    "index_feature2 = 6  \n",
    "features = [index_feature1, index_feature2]\n",
    "\n",
    "feature_name0 = features_list[features[0]]\n",
    "feature_name1 = features_list[features[1]]\n",
    "\n",
    "X = X[:,features]\n",
    "\n",
    "# In the following I will keep the dataset with 3 classes\n",
    "m_t = 80\n",
    "x_train, y_train, x_test, y_test = create_train_val_test_datasets_with_constraints(X, Y, m_t, len(Y)-m_t, 20)\n",
    "\n",
    "logreg = linear_model.LogisticRegression(C = 1e5, max_iter = max_iter).fit(x_train, y_train)"
   ]
  },
  {
   "cell_type": "code",
   "execution_count": 26,
   "id": "408ea2a3",
   "metadata": {},
   "outputs": [
    {
     "name": "stderr",
     "output_type": "stream",
     "text": [
      "C:\\Users\\79663\\AppData\\Local\\Temp/ipykernel_17732/1226924228.py:15: MatplotlibDeprecationWarning: shading='flat' when X and Y have the same dimensions as C is deprecated since 3.3.  Either specify the corners of the quadrilaterals with X and Y, or pass shading='auto', 'nearest' or 'gouraud', or set rcParams['pcolor.shading'].  This will become an error two minor releases later.\n",
      "  axes[0].pcolormesh(xx, yy, Z, cmap=plt.cm.Paired)\n",
      "C:\\Users\\79663\\AppData\\Local\\Temp/ipykernel_17732/1226924228.py:28: MatplotlibDeprecationWarning: shading='flat' when X and Y have the same dimensions as C is deprecated since 3.3.  Either specify the corners of the quadrilaterals with X and Y, or pass shading='auto', 'nearest' or 'gouraud', or set rcParams['pcolor.shading'].  This will become an error two minor releases later.\n",
      "  axes[1].pcolormesh(xx, yy, Z, cmap=plt.cm.Paired)\n"
     ]
    },
    {
     "data": {
      "text/plain": [
       "Text(0.5, 1.0, 'Test set')"
      ]
     },
     "execution_count": 26,
     "metadata": {},
     "output_type": "execute_result"
    },
    {
     "data": {
      "text/plain": [
       "<Figure size 288x216 with 0 Axes>"
      ]
     },
     "metadata": {},
     "output_type": "display_data"
    },
    {
     "data": {
      "image/png": "[encoded data removed]",
      "text/plain": [
       "<Figure size 720x360 with 2 Axes>"
      ]
     },
     "metadata": {
      "needs_background": "light"
     },
     "output_type": "display_data"
    }
   ],
   "source": [
    "# Plot the decision boundary. For that, I will assign a color to each\n",
    "# point in the mesh [x_min, x_max]x[y_min, y_max].\n",
    "h = .02  # step size in the mesh\n",
    "x_min, x_max = X[:, 0].min() - .5, X[:, 0].max() + .5\n",
    "y_min, y_max = X[:, 1].min() - .5, X[:, 1].max() + .5\n",
    "xx, yy = np.meshgrid(np.arange(x_min, x_max, h), np.arange(y_min, y_max, h))\n",
    "\n",
    "Z = logreg.predict(np.c_[xx.ravel(), yy.ravel()])\n",
    "\n",
    "# Put the result into a color plot\n",
    "Z = Z.reshape(xx.shape)\n",
    "\n",
    "plt.figure(1, figsize=(4, 3))\n",
    "fig, axes = plt.subplots(1,2, figsize=(10,5))\n",
    "axes[0].pcolormesh(xx, yy, Z, cmap=plt.cm.Paired)\n",
    "\n",
    "# Plot also the training points\n",
    "axes[0].scatter(x_train[:, 0], x_train[:, 1], c=y_train, edgecolors='k', cmap=plt.cm.Paired)\n",
    "axes[0].set_xlabel(feature_name0)\n",
    "axes[0].set_ylabel(feature_name1)\n",
    "\n",
    "axes[0].set_xlim(xx.min(), xx.max())\n",
    "axes[0].set_ylim(yy.min(), yy.max())\n",
    "axes[0].set_title('Training set')\n",
    "\n",
    "# Put the result into a color plot\n",
    "Z = Z.reshape(xx.shape)\n",
    "axes[1].pcolormesh(xx, yy, Z, cmap=plt.cm.Paired)\n",
    "\n",
    "# Plot also the test points \n",
    "axes[1].scatter(x_test[:, 0], x_test[:, 1], c=y_test, edgecolors='k', cmap=plt.cm.Paired, marker='s')\n",
    "axes[1].set_xlabel(feature_name0)\n",
    "axes[1].set_ylabel(feature_name1)\n",
    "\n",
    "axes[1].set_xlim(xx.min(), xx.max())\n",
    "axes[1].set_ylim(yy.min(), yy.max())\n",
    "axes[1].set_title('Test set')"
   ]
  },
  {
   "cell_type": "code",
   "execution_count": null,
   "id": "5601bb85",
   "metadata": {},
   "outputs": [],
   "source": []
  }
 ],
 "metadata": {
  "kernelspec": {
   "display_name": "Python 3 (ipykernel)",
   "language": "python",
   "name": "python3"
  },
  "language_info": {
   "codemirror_mode": {
    "name": "ipython",
    "version": 3
   },
   "file_extension": ".py",
   "mimetype": "text/x-python",
   "name": "python",
   "nbconvert_exporter": "python",
   "pygments_lexer": "ipython3",
   "version": "3.9.7"
  }
 },
 "nbformat": 4,
 "nbformat_minor": 5
}
